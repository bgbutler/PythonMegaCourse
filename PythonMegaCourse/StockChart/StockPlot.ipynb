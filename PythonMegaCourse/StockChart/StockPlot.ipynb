{
 "cells": [
  {
   "cell_type": "code",
   "execution_count": null,
   "metadata": {},
   "outputs": [],
   "source": [
    "import pandas as pd\n",
    " \n",
    "# use bp as bokeh plot\n",
    "from bokeh.plotting import figure, output_file, show\n",
    "from bokeh.models import Range1d, HoverTool, ColumnDataSource\n",
    "\n",
    "\n",
    "# get the datetime library for date & time calcs\n",
    "from datetime import datetime, timedelta\n",
    " \n",
    "data = pd.read_csv(\"DJI.csv\")\n",
    "\n",
    "data.head()"
   ]
  },
  {
   "cell_type": "code",
   "execution_count": null,
   "metadata": {},
   "outputs": [],
   "source": [
    "data.info()"
   ]
  },
  {
   "cell_type": "code",
   "execution_count": null,
   "metadata": {},
   "outputs": [],
   "source": [
    "# clean up the date fields to become dates\n",
    "\n",
    "data['Date'] = pd.to_datetime(data['Date'], format='%Y-%m-%d')\n",
    "data.info()\n",
    "\n",
    "# create a string column for plotting\n",
    "data[\"DateString\"] = data[\"Date\"].dt.strftime(\"%Y-%m-%d\")"
   ]
  },
  {
   "cell_type": "code",
   "execution_count": null,
   "metadata": {},
   "outputs": [],
   "source": [
    "data[\"Date\"].describe()"
   ]
  },
  {
   "cell_type": "code",
   "execution_count": null,
   "metadata": {},
   "outputs": [],
   "source": [
    "# work on the bokeh plot\n",
    "# set the data source for the plots and hover tool\n",
    "cds = ColumnDataSource(data)\n",
    "\n",
    "bp = figure(width=500, height=250, x_axis_type=\"datetime\", sizing_mode=\"scale_width\")\n",
    "# bp.x_range = Range1d(bounds=(2015-12-31, 2018-12-28))\n",
    "\n",
    "# make the hover tool and add it\n",
    "# hover = HoverTool(tooltips = [(\"Date\",\"@DateString\"),(\"Close\", \"@Close{,}\")])\n",
    "hover = HoverTool(tooltips = [(\"Date\",\"@Date{%F}\"),(\"Close\", \"@Close{,}\")],\n",
    "                 formatters={\"Date\": \"datetime\"})\n",
    "bp.add_tools(hover)\n",
    "\n",
    "bp.line(\"Date\", \"Close\", color = \"Red\", alpha = 0.5, source = cds)\n",
    "\n",
    "output_file(\"Timeseries.html\")\n",
    "show(bp)"
   ]
  },
  {
   "cell_type": "code",
   "execution_count": null,
   "metadata": {},
   "outputs": [],
   "source": []
  }
 ],
 "metadata": {
  "kernelspec": {
   "display_name": "Python 3",
   "language": "python",
   "name": "python3"
  },
  "language_info": {
   "codemirror_mode": {
    "name": "ipython",
    "version": 3
   },
   "file_extension": ".py",
   "mimetype": "text/x-python",
   "name": "python",
   "nbconvert_exporter": "python",
   "pygments_lexer": "ipython3",
   "version": "3.6.6"
  }
 },
 "nbformat": 4,
 "nbformat_minor": 2
}
