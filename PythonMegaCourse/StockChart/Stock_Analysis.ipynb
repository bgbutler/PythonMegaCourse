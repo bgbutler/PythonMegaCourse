{
 "cells": [
  {
   "cell_type": "code",
   "execution_count": 13,
   "metadata": {},
   "outputs": [],
   "source": [
    "from pandas_datareader import data\n",
    "import pandas as pd\n",
    "import datetime\n",
    "from bokeh.plotting import figure, show, output_file\n",
    "from bokeh.embed import components\n",
    "from bokeh.resources import CDN # content delivery network\n",
    "\n",
    "import bokeh.io\n",
    "\n",
    "\n",
    "start = datetime.datetime(2018,10,1)\n",
    "end = datetime.datetime(2019,1,18)\n",
    "stock = \"DIV\"\n",
    "title_str = \"Candlestick Chart for \" + stock\n",
    "\n",
    "df = data.DataReader(name=stock, data_source=\"yahoo\", start=start, end=end)\n",
    "\n",
    "\n",
    "# make a status column\n",
    "def inc_dec(c,o):\n",
    "    if c > o:\n",
    "        value = \"Increase\"\n",
    "    elif c < o:\n",
    "        value = \"Decrease\"\n",
    "    else:\n",
    "        value = \"Equal\"\n",
    "    return value\n",
    "\n",
    "\n",
    "# create dimensions based on the changes and calculations\n",
    "df[\"Status\"] = [inc_dec(c,o) for c,o in zip(df.Close, df.Open)]\n",
    "df[\"Middle\"] = (df.Open + df.Close)/2\n",
    "df[\"Height\"] = abs(df.Close - df.Open)\n",
    "\n",
    "bokeh.io.reset_output()\n",
    "\n",
    "p = figure(x_axis_type='datetime', width=1000, height=300, sizing_mode = \"scale_width\")\n",
    "p.title.text = title_str\n",
    "p.grid.grid_line_alpha=0.3\n",
    "\n",
    "hours_12 = 12 * 60 * 60 * 1000\n",
    "\n",
    "\n",
    "# x value of highest point and lowest point of line segments\n",
    "p.segment(df.index, df.High, df.index, df.Low, color = \"Black\")\n",
    "\n",
    "# need to build out the individual candlesticks\n",
    "# passing dimensions of rectangle\n",
    "\n",
    "p.rect(df.index[df.Status == \"Increase\"], df.Middle[df.Status == \"Increase\"],\n",
    "       hours_12, df.Height[df.Status == \"Increase\"], fill_color=\"#009966\", line_color=\"black\")\n",
    "\n",
    "p.rect(df.index[df.Status == \"Decrease\"], df.Middle[df.Status == \"Decrease\"],\n",
    "       hours_12, df.Height[df.Status == \"Decrease\"], fill_color=\"#FF3333\", line_color=\"black\")\n",
    "\n",
    "\n",
    "\n",
    "# generates the source codein a tuple\n",
    "script1, div1 = components(p)\n",
    "cdn_js = CDN.js_files\n",
    "cdn_css = CDN.css_files\n",
    "\n",
    "# turn these off for embedding in flask\n",
    "# output_file(\"CS.html\")\n",
    "# show(p)\n",
    "\n",
    "\n",
    "\n",
    "\n"
   ]
  },
  {
   "cell_type": "code",
   "execution_count": 10,
   "metadata": {},
   "outputs": [
    {
     "data": {
      "text/plain": [
       "'\\n<script type=\"text/javascript\">\\n  (function() {\\n    var fn = function() {\\n      Bokeh.safely(function() {\\n        (function(root) {\\n          function embed_document(root) {\\n            \\n          var docs_json = \\'{\"7929ddd4-1833-430f-ad76-56afede7fe39\":{\"roots\":{\"references\":[{\"attributes\":{},\"id\":\"f89ca3d8-adc1-46c4-8013-7915eb2b3eee\",\"type\":\"DatetimeTickFormatter\"},{\"attributes\":{},\"id\":\"68cf6e9e-5133-482a-9703-ab88c96aec11\",\"type\":\"SaveTool\"},{\"attributes\":{\"base\":24,\"mantissas\":[1,2,4,6,8,12],\"max_interval\":43200000.0,\"min_interval\":3600000.0,\"num_minor_ticks\":0},\"id\":\"7054aba5-def6-40ae-8086-308a47aff37a\",\"type\":\"AdaptiveTicker\"},{\"attributes\":{\"overlay\":{\"id\":\"6231e46d-f215-436a-a35f-8aa8f81c7af1\",\"type\":\"BoxAnnotation\"}},\"id\":\"0f2c961b-f09d-4140-bd19-1c61d03829bd\",\"type\":\"BoxZoomTool\"},{\"attributes\":{\"dimension\":1,\"grid_line_alpha\":{\"value\":0.3},\"plot\":{\"id\":\"8293144d-5468-4a74-84ed-b2f7f9623a4c\",\"subtype\":\"Figure\",\"type\":\"Plot\"},\"ticker\":{\"id\":\"b294b6eb-03c7-463c-b905-6b987e32e8cb\",\"type\":\"BasicTicker\"}},\"id\":\"f2f4fbed-ff35-4f14-94ef-3591f82302ce\",\"type\":\"Grid\"},{\"attributes\":{\"active_drag\":\"auto\",\"active_inspect\":\"auto\",\"active_multi\":null,\"active_scroll\":\"auto\",\"active_tap\":\"auto\",\"tools\":[{\"id\":\"dae55a2a-af03-413c-8275-40dcc51814e3\",\"type\":\"PanTool\"},{\"id\":\"c80c24a8-33be-47ad-bf4b-b6468caf6528\",\"type\":\"WheelZoomTool\"},{\"id\":\"0f2c961b-f09d-4140-bd19-1c61d03829bd\",\"type\":\"BoxZoomTool\"},{\"id\":\"68cf6e9e-5133-482a-9703-ab88c96aec11\",\"type\":\"SaveTool\"},{\"id\":\"bc5088ef-c88b-4d90-a0a3-aebef4a7e4bd\",\"type\":\"ResetTool\"},{\"id\":\"d146c591-39ae-4707-bf2f-64fa475d667c\",\"type\":\"HelpTool\"}]},\"id\":\"1b3ac03b-0c9d-426e-a942-c0e8d5b1389c\",\"type\":\"Toolbar\"},{\"attributes\":{\"mantissas\":[1,2,5],\"max_interval\":500.0,\"num_minor_ticks\":0},\"id\":\"b93da222-8450-4389-970d-b04d8102977d\",\"type\":\"AdaptiveTicker\"},{\"attributes\":{\"line_alpha\":{\"value\":0.1},\"line_color\":{\"value\":\"#1f77b4\"},\"x0\":{\"field\":\"x0\"},\"x1\":{\"field\":\"x1\"},\"y0\":{\"field\":\"y0\"},\"y1\":{\"field\":\"y1\"}},\"id\":\"c88f6874-89be-4c63-ba03-444648500fb6\",\"type\":\"Segment\"},{\"attributes\":{\"callback\":null,\"data\":{\"height\":{\"__ndarray__\":\"AAAAAEC4rj8AAAAAgOuxPwAAAADgerQ/AAAAAAB7pD8AAAAAULjOPwAAAACYmdk/AAAAADAKxz8AAAAAQLiuPwAAAABAuK4/AAAAAEAKtz8AAAAAMArHPwAAAAAAeoQ/AAAAAGhm1j8AAAAA8FHIPwAAAACAuK4/AAAAAOAovD8AAAAA4Ci8PwAAAADgKLw/AAAAALBH0T8AAAAAwJmpPwAAAACgcM0/AAAAAAB7lD8AAAAAAHuEPwAAAAAwM9M/AAAAACAKtz8AAAAAwJmpPwAAAADwUcg/AAAAAEAKtz8AAAAAAHuUPwAAAABAuK4/AAAAAHwU5j8AAAAA2KPQPwAAAADwUcg/AAAAAJDC1T8AAAAAuB7VPwAAAABwPdo/AAAAAAB7lD8AAAAAwHqkPwAAAACAmbk/\",\"dtype\":\"float64\",\"shape\":[39]},\"x\":{\"__ndarray__\":\"AADAys5idkIAAECWc2N2QgAAAPzFY3ZCAADA+GFldkIAAIBetGV2QgAAQMQGZnZCAAAAKllmdkIAAMAm9Wd2QgAAgIxHaHZCAACAI5FpdkIAAADvNWp2QgAAwFSIanZCAACAutpqdkIAAEC3dmx2QgAAwIIbbXZCAABA5QlvdkIAAEB8U3B2QgAAAOKlcHZCAADAR/hwdkIAAICtSnF2QgAAQKrmcnZCAADAox52dkIAAADVFXd2QgAAwDpod3ZCAAAAbF94dkIAAECdVnl2QgAAAAOpeXZCAADAaPt5dkIAAIDOTXp2QgAAQDSgenZCAACAZZd7dkIAAEDL6Xt2QgAAADE8fHZCAADAlo58dkIAAID84Hx2QgAAwC3YfXZCAAAA9hiAdkIAAMCJ/oJ2QgAAgIaahHZC\",\"dtype\":\"float64\",\"shape\":[39]},\"y\":{\"__ndarray__\":\"AAAA0MxMOUAAAADAzCw5QAAAAPB6FDlAAAAA4HpUOUAAAABwFC45QAAAABCuxzhAAAAAsEehOEAAAAAQrgc5QAAAAJDC9ThAAAAAYLj+OEAAAACQwrU4QAAAAAAAoDhAAAAAkOtxOEAAAADwUZg4QAAAAOB6lDhAAAAA8FHYOEAAAABQuL44QAAAANDMrDhAAAAA4KOQOEAAAADwUVg4QAAAACCuJzhAAAAAoHB9OEAAAABQj6I4QAAAAEDhejhAAAAAcD0qOEAAAACQwhU4QAAAAPBRGDhAAAAAACn8N0AAAADAHgU4QAAAANCj8DdAAAAAcBSON0AAAADQ9Sg3QAAAAFC4/jZAAAAAYLieNkAAAACQwlU2QAAAAMAe5TVAAAAAIIVrNkAAAACQwnU3QAAAAMD1aDdA\",\"dtype\":\"float64\",\"shape\":[39]}},\"selected\":{\"id\":\"3d4f0d4e-ccdb-43e5-969b-198860ea801b\",\"type\":\"Selection\"},\"selection_policy\":{\"id\":\"9c27bcd1-462b-4311-b57c-10b30cd9146a\",\"type\":\"UnionRenderers\"}},\"id\":\"53d215fe-772c-435f-b823-32e8398ff539\",\"type\":\"ColumnDataSource\"},{\"attributes\":{},\"id\":\"e8ac2887-f59d-4328-b0ed-8010e7014b16\",\"type\":\"BasicTickFormatter\"},{\"attributes\":{},\"id\":\"d0408286-b42f-468d-ae75-c8d0634a384c\",\"type\":\"UnionRenderers\"},{\"attributes\":{\"days\":[1,4,7,10,13,16,19,22,25,28]},\"id\":\"d5f42407-1777-4f67-8904-10a9e3a0b341\",\"type\":\"DaysTicker\"},{\"attributes\":{\"source\":{\"id\":\"de3cabfd-d583-44a3-9399-bc50159b623d\",\"type\":\"ColumnDataSource\"}},\"id\":\"38ac1e29-4381-4e70-a41c-ea4434be854a\",\"type\":\"CDSView\"},{\"attributes\":{\"plot\":null,\"text\":\"Candlestick Chart for DIV\"},\"id\":\"4b34d031-c28c-4112-8a51-5c408f391bda\",\"type\":\"Title\"},{\"attributes\":{},\"id\":\"d146c591-39ae-4707-bf2f-64fa475d667c\",\"type\":\"HelpTool\"},{\"attributes\":{\"days\":[1,8,15,22]},\"id\":\"9607839a-6ce3-4fd5-b2c2-91920105c825\",\"type\":\"DaysTicker\"},{\"attributes\":{},\"id\":\"bc5088ef-c88b-4d90-a0a3-aebef4a7e4bd\",\"type\":\"ResetTool\"},{\"attributes\":{\"data_source\":{\"id\":\"de3cabfd-d583-44a3-9399-bc50159b623d\",\"type\":\"ColumnDataSource\"},\"glyph\":{\"id\":\"b20c6215-4d5c-40a4-997a-bbbbc44d895f\",\"type\":\"Segment\"},\"hover_glyph\":null,\"muted_glyph\":null,\"nonselection_glyph\":{\"id\":\"c88f6874-89be-4c63-ba03-444648500fb6\",\"type\":\"Segment\"},\"selection_glyph\":null,\"view\":{\"id\":\"38ac1e29-4381-4e70-a41c-ea4434be854a\",\"type\":\"CDSView\"}},\"id\":\"74260b2f-9715-4667-8141-d5016d264cad\",\"type\":\"GlyphRenderer\"},{\"attributes\":{\"days\":[1,2,3,4,5,6,7,8,9,10,11,12,13,14,15,16,17,18,19,20,21,22,23,24,25,26,27,28,29,30,31]},\"id\":\"9fbc03c2-f617-4d12-af56-f58775c2da68\",\"type\":\"DaysTicker\"},{\"attributes\":{},\"id\":\"c80c24a8-33be-47ad-bf4b-b6468caf6528\",\"type\":\"WheelZoomTool\"},{\"attributes\":{\"grid_line_alpha\":{\"value\":0.3},\"plot\":{\"id\":\"8293144d-5468-4a74-84ed-b2f7f9623a4c\",\"subtype\":\"Figure\",\"type\":\"Plot\"},\"ticker\":{\"id\":\"5074ac3e-7924-4159-99d7-94d961e4dcb6\",\"type\":\"DatetimeTicker\"}},\"id\":\"45314163-e758-4a14-809c-8d90d2f7cb75\",\"type\":\"Grid\"},{\"attributes\":{\"callback\":null,\"data\":{\"height\":{\"__ndarray__\":\"AAAAAMB6pD8AAAAAQAq3PwAAAACgmck/AAAAAKCZuT8AAAAAwB7VPwAAAABACrc/AAAAAAC4nj8AAAAAQLiuPwAAAADwesQ/AAAAAPBRyD8AAAAAQAq3PwAAAAAAKbw/AAAAAAB7lD8AAAAAAHuEPwAAAACAepQ/AAAAAOB6tD8AAAAAgJmpPwAAAADQo8A/AAAAAEAKtz8AAAAA0KPAPwAAAADgeuQ/AAAAAPB6xD8AAAAAAHqEPwAAAAAAANA/AAAAAIC4nj8AAAAAOArXPwAAAADgesQ/AAAAAGC4vj8AAAAAALiePwAAAADQo8A/AAAAAICZuT8AAAAAAHukPwAAAACQ68E/AAAAAIC4nj8=\",\"dtype\":\"float64\",\"shape\":[34]},\"x\":{\"__ndarray__\":\"AACAMCFjdkIAAMBhGGR2QgAAAJMPZXZCAABAW1BndkIAAADBomd2QgAAQPKZaHZCAABAieNpdkIAAMDr0Wt2QgAAgFEkbHZCAAAAtBJudkIAAMAZZW52QgAAgH+3bnZCAAAAS1xvdkIAAEATnXF2QgAAgESUcnZCAAAAEDlzdkIAAMAM1XR2QgAAQNh5dXZCAAAAPsx1dkIAAEAGDXh2QgAAQPl8fnZCAAAAX89+dkIAAMDEIX92QgAAgMG9gHZCAABAJxCBdkIAAACNYoF2QgAAQL5ZgnZCAAAAJKyCdkIAAIDvUIN2QgAAQFWjg3ZCAABA7OyEdkIAAABSP4V2QgAAwLeRhXZCAACAHeSFdkI=\",\"dtype\":\"float64\",\"shape\":[34]},\"y\":{\"__ndarray__\":\"AAAAcD1KOUAAAABA4Ro5QAAAAEDhOjlAAAAAENejOEAAAAAAAOA4QAAAAGC4/jhAAAAAgBTOOEAAAADQo3A4QAAAAHA9ijhAAAAAULh+OEAAAADAHqU4QAAAAAAA4DhAAAAAIFzPOEAAAACQwlU4QAAAAFC4XjhAAAAAMAoXOEAAAACgmTk4QAAAADAzUzhAAAAAIFxvOEAAAABwPSo4QAAAAMAeBTZAAAAAcD1KNkAAAAAghUs2QAAAAOBRWDZAAAAAkJl5NkAAAABwPco2QAAAAKBHITdAAAAAsEdhN0AAAADgenQ3QAAAAPAofDdAAAAAwPVoN0AAAACgcH03QAAAABCuhzdAAAAAEK6nN0A=\",\"dtype\":\"float64\",\"shape\":[34]}},\"selected\":{\"id\":\"8ef516b9-24a6-4b12-a4ec-1d50df25222c\",\"type\":\"Selection\"},\"selection_policy\":{\"id\":\"d0408286-b42f-468d-ae75-c8d0634a384c\",\"type\":\"UnionRenderers\"}},\"id\":\"46ce6faf-5381-42b8-8619-d5c014ffcc0a\",\"type\":\"ColumnDataSource\"},{\"attributes\":{\"bottom_units\":\"screen\",\"fill_alpha\":{\"value\":0.5},\"fill_color\":{\"value\":\"lightgrey\"},\"left_units\":\"screen\",\"level\":\"overlay\",\"line_alpha\":{\"value\":1.0},\"line_color\":{\"value\":\"black\"},\"line_dash\":[4,4],\"line_width\":{\"value\":2},\"plot\":null,\"render_mode\":\"css\",\"right_units\":\"screen\",\"top_units\":\"screen\"},\"id\":\"6231e46d-f215-436a-a35f-8aa8f81c7af1\",\"type\":\"BoxAnnotation\"},{\"attributes\":{},\"id\":\"0b017377-5bce-403b-982d-79cff4139297\",\"type\":\"YearsTicker\"},{\"attributes\":{\"callback\":null,\"data\":{\"x0\":{\"__ndarray__\":\"AADAys5idkIAAIAwIWN2QgAAQJZzY3ZCAAAA/MVjdkIAAMBhGGR2QgAAAJMPZXZCAADA+GFldkIAAIBetGV2QgAAQMQGZnZCAAAAKllmdkIAAEBbUGd2QgAAAMGiZ3ZCAADAJvVndkIAAICMR2h2QgAAQPKZaHZCAACAI5FpdkIAAECJ42l2QgAAAO81anZCAADAVIhqdkIAAIC62mp2QgAAwOvRa3ZCAACAUSRsdkIAAEC3dmx2QgAAAB3JbHZCAADAghttdkIAAAC0Em52QgAAwBllbnZCAACAf7dudkIAAEDlCW92QgAAAEtcb3ZCAABAfFNwdkIAAADipXB2QgAAwEf4cHZCAACArUpxdkIAAEATnXF2QgAAgESUcnZCAABAquZydkIAAAAQOXN2QgAAgNvdc3ZCAADADNV0dkIAAIByJ3V2QgAAQNh5dXZCAAAAPsx1dkIAAMCjHnZ2QgAAANUVd3ZCAADAOmh3dkIAAEAGDXh2QgAAAGxfeHZCAABAnVZ5dkIAAAADqXl2QgAAwGj7eXZCAACAzk16dkIAAEA0oHp2QgAAgGWXe3ZCAABAy+l7dkIAAAAxPHx2QgAAwJaOfHZCAACA/OB8dkIAAMAt2H12QgAAQPl8fnZCAAAAX89+dkIAAMDEIX92QgAAAPYYgHZCAACAwb2AdkIAAEAnEIF2QgAAAI1igXZCAABAvlmCdkIAAAAkrIJ2QgAAwIn+gnZCAACA71CDdkIAAEBVo4N2QgAAgIaahHZCAABA7OyEdkIAAABSP4V2QgAAwLeRhXZCAACAHeSFdkI=\",\"dtype\":\"float64\",\"shape\":[76]},\"x1\":{\"__ndarray__\":\"AADAys5idkIAAIAwIWN2QgAAQJZzY3ZCAAAA/MVjdkIAAMBhGGR2QgAAAJMPZXZCAADA+GFldkIAAIBetGV2QgAAQMQGZnZCAAAAKllmdkIAAEBbUGd2QgAAAMGiZ3ZCAADAJvVndkIAAICMR2h2QgAAQPKZaHZCAACAI5FpdkIAAECJ42l2QgAAAO81anZCAADAVIhqdkIAAIC62mp2QgAAwOvRa3ZCAACAUSRsdkIAAEC3dmx2QgAAAB3JbHZCAADAghttdkIAAAC0Em52QgAAwBllbnZCAACAf7dudkIAAEDlCW92QgAAAEtcb3ZCAABAfFNwdkIAAADipXB2QgAAwEf4cHZCAACArUpxdkIAAEATnXF2QgAAgESUcnZCAABAquZydkIAAAAQOXN2QgAAgNvdc3ZCAADADNV0dkIAAIByJ3V2QgAAQNh5dXZCAAAAPsx1dkIAAMCjHnZ2QgAAANUVd3ZCAADAOmh3dkIAAEAGDXh2QgAAAGxfeHZCAABAnVZ5dkIAAAADqXl2QgAAwGj7eXZCAACAzk16dkIAAEA0oHp2QgAAgGWXe3ZCAABAy+l7dkIAAAAxPHx2QgAAwJaOfHZCAACA/OB8dkIAAMAt2H12QgAAQPl8fnZCAAAAX89+dkIAAMDEIX92QgAAAPYYgHZCAACAwb2AdkIAAEAnEIF2QgAAAI1igXZCAABAvlmCdkIAAAAkrIJ2QgAAwIn+gnZCAACA71CDdkIAAEBVo4N2QgAAgIaahHZCAABA7OyEdkIAAABSP4V2QgAAwLeRhXZCAACAHeSFdkI=\",\"dtype\":\"float64\",\"shape\":[76]},\"y0\":{\"__ndarray__\":\"AAAA4HpUOUAAAADgelQ5QAAAACCuRzlAAAAAYLgeOUAAAADA9Sg5QAAAAAApXDlAAAAA4FF4OUAAAABgZmY5QAAAAMAeBTlAAAAA4FG4OEAAAAAgXM84QAAAAGC4HjlAAAAAoEchOUAAAAAAKRw5QAAAAMD1KDlAAAAAoEchOUAAAAAghes4QAAAAKBH4ThAAAAA4FG4OEAAAABguJ44QAAAACCFqzhAAAAAgBSuOEAAAADgo7A4QAAAAGC4njhAAAAAoEehOEAAAABgZqY4QAAAAOBRuDhAAAAAgBTuOEAAAACAFO44QAAAAAAp3DhAAAAAYGbmOEAAAADAzMw4QAAAAEAzszhAAAAAYLheOEAAAAAAKVw4QAAAAMAehThAAAAAoEdhOEAAAABA4To4QAAAAGC4HjhAAAAAAABAOEAAAACAPUo4QAAAAIAUbjhAAAAAgOuROEAAAAAAAIA4QAAAAADXozhAAAAAgMK1OEAAAABA4To4QAAAACBcTzhAAAAAACkcOEAAAAAAAEA4QAAAAOCjMDhAAAAAACkcOEAAAABAChc4QAAAAGBm5jdAAAAAAClcN0AAAACgcD03QAAAAMDMzDZAAAAAwMzMNkAAAABgZiY2QAAAAKCZWTZAAAAAYLheNkAAAAAAAIA2QAAAAOCjcDZAAAAAwB6FNkAAAABAM7M2QAAAAOBR+DZAAAAAIFxPN0AAAABAM3M3QAAAAAAAgDdAAAAAAACAN0AAAADAzIw3QAAAAIDCdTdAAAAAQOF6N0AAAACAPYo3QAAAAMD1qDdAAAAAoHC9N0A=\",\"dtype\":\"float64\",\"shape\":[76]},\"y1\":{\"__ndarray__\":\"AAAAgBQuOUAAAADgozA5QAAAACBcDzlAAAAAQDPzOEAAAAAgXA85QAAAAKBHITlAAAAAIK5HOUAAAAAAAAA5QAAAAGCPgjhAAAAAoEdhOEAAAACA65E4QAAAAADXozhAAAAAwPXoOEAAAABACtc4QAAAAEAz8zhAAAAA4KPwOEAAAAAA16M4QAAAAAApnDhAAAAAYI+COEAAAACAFC44QAAAAMDMTDhAAAAAgBRuOEAAAADgo3A4QAAAAIDCdThAAAAAAClcOEAAAABgZmY4QAAAAKCZmThAAAAAIIWrOEAAAADAHsU4QAAAAIAUrjhAAAAAgBSuOEAAAACA65E4QAAAAGC4XjhAAAAAgBQuOEAAAADgUTg4QAAAAIA9SjhAAAAAgD0KOEAAAADAzAw4QAAAAAAAADhAAAAAANcjOEAAAAAghSs4QAAAAGBmJjhAAAAAwMxMOEAAAAAAKVw4QAAAAKBHYThAAAAAwMxMOEAAAADAHsU3QAAAAMAeBThAAAAAwMzMN0AAAACgcP03QAAAAOCj8DdAAAAAgML1N0AAAADgetQ3QAAAAGC4HjdAAAAAQDPzNkAAAADAzMw2QAAAAMAeRTZAAAAAYGYmNkAAAADA9ag1QAAAAGC4njVAAAAAACncNUAAAAAAAEA2QAAAAAApHDZAAAAA4HoUNkAAAADgo3A2QAAAAAApnDZAAAAAIIXrNkAAAAAgrkc3QAAAAAApXDdAAAAAgD1KN0AAAAAA12M3QAAAAMDMTDdAAAAAoJlZN0AAAADA9Wg3QAAAAIDCdTdAAAAAYLieN0A=\",\"dtype\":\"float64\",\"shape\":[76]}},\"selected\":{\"id\":\"e2a519c7-6ad4-4590-ae71-258e9e59e41a\",\"type\":\"Selection\"},\"selection_policy\":{\"id\":\"346cb21d-1696-46ab-83bd-836659868fbd\",\"type\":\"UnionRenderers\"}},\"id\":\"de3cabfd-d583-44a3-9399-bc50159b623d\",\"type\":\"ColumnDataSource\"},{\"attributes\":{},\"id\":\"9c27bcd1-462b-4311-b57c-10b30cd9146a\",\"type\":\"UnionRenderers\"},{\"attributes\":{},\"id\":\"dae55a2a-af03-413c-8275-40dcc51814e3\",\"type\":\"PanTool\"},{\"attributes\":{\"fill_color\":{\"value\":\"#009966\"},\"height\":{\"field\":\"height\",\"units\":\"data\"},\"width\":{\"units\":\"data\",\"value\":43200000},\"x\":{\"field\":\"x\"},\"y\":{\"field\":\"y\"}},\"id\":\"4725136f-2d35-4e72-ac7f-09b70284eff4\",\"type\":\"Rect\"},{\"attributes\":{\"formatter\":{\"id\":\"e8ac2887-f59d-4328-b0ed-8010e7014b16\",\"type\":\"BasicTickFormatter\"},\"plot\":{\"id\":\"8293144d-5468-4a74-84ed-b2f7f9623a4c\",\"subtype\":\"Figure\",\"type\":\"Plot\"},\"ticker\":{\"id\":\"b294b6eb-03c7-463c-b905-6b987e32e8cb\",\"type\":\"BasicTicker\"}},\"id\":\"41ee05fd-59e7-47b9-ba59-881e96a05882\",\"type\":\"LinearAxis\"},{\"attributes\":{},\"id\":\"8ef516b9-24a6-4b12-a4ec-1d50df25222c\",\"type\":\"Selection\"},{\"attributes\":{},\"id\":\"2efa12a1-3510-47e8-bbfe-03dd985448f2\",\"type\":\"LinearScale\"},{\"attributes\":{\"fill_alpha\":{\"value\":0.1},\"fill_color\":{\"value\":\"#1f77b4\"},\"height\":{\"field\":\"height\",\"units\":\"data\"},\"line_alpha\":{\"value\":0.1},\"line_color\":{\"value\":\"#1f77b4\"},\"width\":{\"units\":\"data\",\"value\":43200000},\"x\":{\"field\":\"x\"},\"y\":{\"field\":\"y\"}},\"id\":\"14bb3ba3-3ee9-47d6-a1ee-c5dbdd20006e\",\"type\":\"Rect\"},{\"attributes\":{\"callback\":null},\"id\":\"e075a47e-050e-4780-ac44-e1bfdd9bcf4b\",\"type\":\"DataRange1d\"},{\"attributes\":{\"days\":[1,15]},\"id\":\"efdc301c-1bde-4304-b3cd-c31a785ba487\",\"type\":\"DaysTicker\"},{\"attributes\":{\"months\":[0,4,8]},\"id\":\"8da98016-38a0-4459-b6ef-d7fe8d2cc453\",\"type\":\"MonthsTicker\"},{\"attributes\":{\"data_source\":{\"id\":\"46ce6faf-5381-42b8-8619-d5c014ffcc0a\",\"type\":\"ColumnDataSource\"},\"glyph\":{\"id\":\"4725136f-2d35-4e72-ac7f-09b70284eff4\",\"type\":\"Rect\"},\"hover_glyph\":null,\"muted_glyph\":null,\"nonselection_glyph\":{\"id\":\"14bb3ba3-3ee9-47d6-a1ee-c5dbdd20006e\",\"type\":\"Rect\"},\"selection_glyph\":null,\"view\":{\"id\":\"49720678-fa05-45c5-adc8-5c67803f758e\",\"type\":\"CDSView\"}},\"id\":\"65ab007d-641b-4cdc-ada4-64425959b43e\",\"type\":\"GlyphRenderer\"},{\"attributes\":{\"source\":{\"id\":\"53d215fe-772c-435f-b823-32e8398ff539\",\"type\":\"ColumnDataSource\"}},\"id\":\"bd45467b-820b-4cdf-a863-63c8f801e1fc\",\"type\":\"CDSView\"},{\"attributes\":{},\"id\":\"e2a519c7-6ad4-4590-ae71-258e9e59e41a\",\"type\":\"Selection\"},{\"attributes\":{\"fill_color\":{\"value\":\"#FF3333\"},\"height\":{\"field\":\"height\",\"units\":\"data\"},\"width\":{\"units\":\"data\",\"value\":43200000},\"x\":{\"field\":\"x\"},\"y\":{\"field\":\"y\"}},\"id\":\"35266b9e-7265-468c-a53b-2874ff46ba9a\",\"type\":\"Rect\"},{\"attributes\":{},\"id\":\"3d4f0d4e-ccdb-43e5-969b-198860ea801b\",\"type\":\"Selection\"},{\"attributes\":{\"num_minor_ticks\":5,\"tickers\":[{\"id\":\"b93da222-8450-4389-970d-b04d8102977d\",\"type\":\"AdaptiveTicker\"},{\"id\":\"d751dba4-ba84-4378-baa1-425afc037bad\",\"type\":\"AdaptiveTicker\"},{\"id\":\"7054aba5-def6-40ae-8086-308a47aff37a\",\"type\":\"AdaptiveTicker\"},{\"id\":\"9fbc03c2-f617-4d12-af56-f58775c2da68\",\"type\":\"DaysTicker\"},{\"id\":\"d5f42407-1777-4f67-8904-10a9e3a0b341\",\"type\":\"DaysTicker\"},{\"id\":\"9607839a-6ce3-4fd5-b2c2-91920105c825\",\"type\":\"DaysTicker\"},{\"id\":\"efdc301c-1bde-4304-b3cd-c31a785ba487\",\"type\":\"DaysTicker\"},{\"id\":\"0b8791cf-f58c-4d68-9adc-272a3e65bc59\",\"type\":\"MonthsTicker\"},{\"id\":\"4e770e34-7373-4740-9769-c6e9ca5a5aab\",\"type\":\"MonthsTicker\"},{\"id\":\"8da98016-38a0-4459-b6ef-d7fe8d2cc453\",\"type\":\"MonthsTicker\"},{\"id\":\"dbc48462-63ff-4eec-bfd9-eedecfc68931\",\"type\":\"MonthsTicker\"},{\"id\":\"0b017377-5bce-403b-982d-79cff4139297\",\"type\":\"YearsTicker\"}]},\"id\":\"5074ac3e-7924-4159-99d7-94d961e4dcb6\",\"type\":\"DatetimeTicker\"},{\"attributes\":{\"below\":[{\"id\":\"f8ff10d4-947f-47b9-acf1-1e528ffefc0f\",\"type\":\"DatetimeAxis\"}],\"left\":[{\"id\":\"41ee05fd-59e7-47b9-ba59-881e96a05882\",\"type\":\"LinearAxis\"}],\"plot_height\":300,\"plot_width\":1000,\"renderers\":[{\"id\":\"f8ff10d4-947f-47b9-acf1-1e528ffefc0f\",\"type\":\"DatetimeAxis\"},{\"id\":\"45314163-e758-4a14-809c-8d90d2f7cb75\",\"type\":\"Grid\"},{\"id\":\"41ee05fd-59e7-47b9-ba59-881e96a05882\",\"type\":\"LinearAxis\"},{\"id\":\"f2f4fbed-ff35-4f14-94ef-3591f82302ce\",\"type\":\"Grid\"},{\"id\":\"6231e46d-f215-436a-a35f-8aa8f81c7af1\",\"type\":\"BoxAnnotation\"},{\"id\":\"74260b2f-9715-4667-8141-d5016d264cad\",\"type\":\"GlyphRenderer\"},{\"id\":\"65ab007d-641b-4cdc-ada4-64425959b43e\",\"type\":\"GlyphRenderer\"},{\"id\":\"9ffbf421-2ffb-496f-b6fb-36b26cb6028e\",\"type\":\"GlyphRenderer\"}],\"sizing_mode\":\"scale_width\",\"title\":{\"id\":\"4b34d031-c28c-4112-8a51-5c408f391bda\",\"type\":\"Title\"},\"toolbar\":{\"id\":\"1b3ac03b-0c9d-426e-a942-c0e8d5b1389c\",\"type\":\"Toolbar\"},\"x_range\":{\"id\":\"522665a5-da55-47bb-9b63-5ba6e3f27c59\",\"type\":\"DataRange1d\"},\"x_scale\":{\"id\":\"2748a368-5d26-40ed-946e-43dcb1dfbcca\",\"type\":\"LinearScale\"},\"y_range\":{\"id\":\"e075a47e-050e-4780-ac44-e1bfdd9bcf4b\",\"type\":\"DataRange1d\"},\"y_scale\":{\"id\":\"2efa12a1-3510-47e8-bbfe-03dd985448f2\",\"type\":\"LinearScale\"}},\"id\":\"8293144d-5468-4a74-84ed-b2f7f9623a4c\",\"subtype\":\"Figure\",\"type\":\"Plot\"},{\"attributes\":{},\"id\":\"346cb21d-1696-46ab-83bd-836659868fbd\",\"type\":\"UnionRenderers\"},{\"attributes\":{\"fill_alpha\":{\"value\":0.1},\"fill_color\":{\"value\":\"#1f77b4\"},\"height\":{\"field\":\"height\",\"units\":\"data\"},\"line_alpha\":{\"value\":0.1},\"line_color\":{\"value\":\"#1f77b4\"},\"width\":{\"units\":\"data\",\"value\":43200000},\"x\":{\"field\":\"x\"},\"y\":{\"field\":\"y\"}},\"id\":\"637aaa1c-92da-4ec8-9b70-b5120fa38fdb\",\"type\":\"Rect\"},{\"attributes\":{\"data_source\":{\"id\":\"53d215fe-772c-435f-b823-32e8398ff539\",\"type\":\"ColumnDataSource\"},\"glyph\":{\"id\":\"35266b9e-7265-468c-a53b-2874ff46ba9a\",\"type\":\"Rect\"},\"hover_glyph\":null,\"muted_glyph\":null,\"nonselection_glyph\":{\"id\":\"637aaa1c-92da-4ec8-9b70-b5120fa38fdb\",\"type\":\"Rect\"},\"selection_glyph\":null,\"view\":{\"id\":\"bd45467b-820b-4cdf-a863-63c8f801e1fc\",\"type\":\"CDSView\"}},\"id\":\"9ffbf421-2ffb-496f-b6fb-36b26cb6028e\",\"type\":\"GlyphRenderer\"},{\"attributes\":{\"formatter\":{\"id\":\"f89ca3d8-adc1-46c4-8013-7915eb2b3eee\",\"type\":\"DatetimeTickFormatter\"},\"plot\":{\"id\":\"8293144d-5468-4a74-84ed-b2f7f9623a4c\",\"subtype\":\"Figure\",\"type\":\"Plot\"},\"ticker\":{\"id\":\"5074ac3e-7924-4159-99d7-94d961e4dcb6\",\"type\":\"DatetimeTicker\"}},\"id\":\"f8ff10d4-947f-47b9-acf1-1e528ffefc0f\",\"type\":\"DatetimeAxis\"},{\"attributes\":{\"months\":[0,6]},\"id\":\"dbc48462-63ff-4eec-bfd9-eedecfc68931\",\"type\":\"MonthsTicker\"},{\"attributes\":{\"source\":{\"id\":\"46ce6faf-5381-42b8-8619-d5c014ffcc0a\",\"type\":\"ColumnDataSource\"}},\"id\":\"49720678-fa05-45c5-adc8-5c67803f758e\",\"type\":\"CDSView\"},{\"attributes\":{\"months\":[0,1,2,3,4,5,6,7,8,9,10,11]},\"id\":\"0b8791cf-f58c-4d68-9adc-272a3e65bc59\",\"type\":\"MonthsTicker\"},{\"attributes\":{\"callback\":null},\"id\":\"522665a5-da55-47bb-9b63-5ba6e3f27c59\",\"type\":\"DataRange1d\"},{\"attributes\":{\"months\":[0,2,4,6,8,10]},\"id\":\"4e770e34-7373-4740-9769-c6e9ca5a5aab\",\"type\":\"MonthsTicker\"},{\"attributes\":{\"line_color\":{\"value\":\"Black\"},\"x0\":{\"field\":\"x0\"},\"x1\":{\"field\":\"x1\"},\"y0\":{\"field\":\"y0\"},\"y1\":{\"field\":\"y1\"}},\"id\":\"b20c6215-4d5c-40a4-997a-bbbbc44d895f\",\"type\":\"Segment\"},{\"attributes\":{\"base\":60,\"mantissas\":[1,2,5,10,15,20,30],\"max_interval\":1800000.0,\"min_interval\":1000.0,\"num_minor_ticks\":0},\"id\":\"d751dba4-ba84-4378-baa1-425afc037bad\",\"type\":\"AdaptiveTicker\"},{\"attributes\":{},\"id\":\"2748a368-5d26-40ed-946e-43dcb1dfbcca\",\"type\":\"LinearScale\"},{\"attributes\":{},\"id\":\"b294b6eb-03c7-463c-b905-6b987e32e8cb\",\"type\":\"BasicTicker\"}],\"root_ids\":[\"8293144d-5468-4a74-84ed-b2f7f9623a4c\"]},\"title\":\"Bokeh Application\",\"version\":\"0.13.0\"}}\\';\\n          var render_items = [{\"docid\":\"7929ddd4-1833-430f-ad76-56afede7fe39\",\"roots\":{\"8293144d-5468-4a74-84ed-b2f7f9623a4c\":\"6c9cd274-3672-4c6b-9a62-b43f1a270fbb\"}}];\\n          root.Bokeh.embed.embed_items(docs_json, render_items);\\n        \\n          }\\n          if (root.Bokeh !== undefined) {\\n            embed_document(root);\\n          } else {\\n            var attempts = 0;\\n            var timer = setInterval(function(root) {\\n              if (root.Bokeh !== undefined) {\\n                embed_document(root);\\n                clearInterval(timer);\\n              }\\n              attempts++;\\n              if (attempts > 100) {\\n                console.log(\"Bokeh: ERROR: Unable to run BokehJS code because BokehJS library is missing\")\\n                clearInterval(timer);\\n              }\\n            }, 10, root)\\n          }\\n        })(window);\\n      });\\n    };\\n    if (document.readyState != \"loading\") fn();\\n    else document.addEventListener(\"DOMContentLoaded\", fn);\\n  })();\\n</script>'"
      ]
     },
     "execution_count": 10,
     "metadata": {},
     "output_type": "execute_result"
    }
   ],
   "source": [
    "script1"
   ]
  },
  {
   "cell_type": "code",
   "execution_count": 11,
   "metadata": {},
   "outputs": [
    {
     "data": {
      "text/plain": [
       "'\\n<div class=\"bk-root\" id=\"6c9cd274-3672-4c6b-9a62-b43f1a270fbb\"></div>'"
      ]
     },
     "execution_count": 11,
     "metadata": {},
     "output_type": "execute_result"
    }
   ],
   "source": [
    "div1"
   ]
  },
  {
   "cell_type": "code",
   "execution_count": 15,
   "metadata": {},
   "outputs": [
    {
     "data": {
      "text/plain": [
       "'https://cdn.pydata.org/bokeh/release/bokeh-0.13.0.min.js'"
      ]
     },
     "execution_count": 15,
     "metadata": {},
     "output_type": "execute_result"
    }
   ],
   "source": [
    "cdn_js[0]"
   ]
  },
  {
   "cell_type": "code",
   "execution_count": 17,
   "metadata": {},
   "outputs": [
    {
     "data": {
      "text/plain": [
       "'https://cdn.pydata.org/bokeh/release/bokeh-0.13.0.min.css'"
      ]
     },
     "execution_count": 17,
     "metadata": {},
     "output_type": "execute_result"
    }
   ],
   "source": [
    "cdn_css[0]"
   ]
  },
  {
   "cell_type": "code",
   "execution_count": null,
   "metadata": {},
   "outputs": [],
   "source": []
  }
 ],
 "metadata": {
  "kernelspec": {
   "display_name": "Python 3",
   "language": "python",
   "name": "python3"
  },
  "language_info": {
   "codemirror_mode": {
    "name": "ipython",
    "version": 3
   },
   "file_extension": ".py",
   "mimetype": "text/x-python",
   "name": "python",
   "nbconvert_exporter": "python",
   "pygments_lexer": "ipython3",
   "version": "3.6.6"
  }
 },
 "nbformat": 4,
 "nbformat_minor": 2
}
